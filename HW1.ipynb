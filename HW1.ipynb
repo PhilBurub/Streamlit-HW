{
  "nbformat": 4,
  "nbformat_minor": 0,
  "metadata": {
    "colab": {
      "provenance": []
    },
    "kernelspec": {
      "name": "python3",
      "display_name": "Python 3"
    },
    "language_info": {
      "name": "python"
    }
  },
  "cells": [
    {
      "cell_type": "code",
      "source": [
        "import pandas as pd\n",
        "import numpy as np\n",
        "\n",
        "# Реальные средние температуры (примерные данные) для городов по сезонам\n",
        "seasonal_temperatures = {\n",
        "    \"New York\": {\"winter\": 0, \"spring\": 10, \"summer\": 25, \"autumn\": 15},\n",
        "    \"London\": {\"winter\": 5, \"spring\": 11, \"summer\": 18, \"autumn\": 12},\n",
        "    \"Paris\": {\"winter\": 4, \"spring\": 12, \"summer\": 20, \"autumn\": 13},\n",
        "    \"Tokyo\": {\"winter\": 6, \"spring\": 15, \"summer\": 27, \"autumn\": 18},\n",
        "    \"Moscow\": {\"winter\": -10, \"spring\": 5, \"summer\": 18, \"autumn\": 8},\n",
        "    \"Sydney\": {\"winter\": 12, \"spring\": 18, \"summer\": 25, \"autumn\": 20},\n",
        "    \"Berlin\": {\"winter\": 0, \"spring\": 10, \"summer\": 20, \"autumn\": 11},\n",
        "    \"Beijing\": {\"winter\": -2, \"spring\": 13, \"summer\": 27, \"autumn\": 16},\n",
        "    \"Rio de Janeiro\": {\"winter\": 20, \"spring\": 25, \"summer\": 30, \"autumn\": 25},\n",
        "    \"Dubai\": {\"winter\": 20, \"spring\": 30, \"summer\": 40, \"autumn\": 30},\n",
        "    \"Los Angeles\": {\"winter\": 15, \"spring\": 18, \"summer\": 25, \"autumn\": 20},\n",
        "    \"Singapore\": {\"winter\": 27, \"spring\": 28, \"summer\": 28, \"autumn\": 27},\n",
        "    \"Mumbai\": {\"winter\": 25, \"spring\": 30, \"summer\": 35, \"autumn\": 30},\n",
        "    \"Cairo\": {\"winter\": 15, \"spring\": 25, \"summer\": 35, \"autumn\": 25},\n",
        "    \"Mexico City\": {\"winter\": 12, \"spring\": 18, \"summer\": 20, \"autumn\": 15},\n",
        "}\n",
        "\n",
        "# Сопоставление месяцев с сезонами\n",
        "month_to_season = {12: \"winter\", 1: \"winter\", 2: \"winter\",\n",
        "                   3: \"spring\", 4: \"spring\", 5: \"spring\",\n",
        "                   6: \"summer\", 7: \"summer\", 8: \"summer\",\n",
        "                   9: \"autumn\", 10: \"autumn\", 11: \"autumn\"}\n",
        "\n",
        "# Генерация данных о температуре\n",
        "def generate_realistic_temperature_data(cities, num_years=10):\n",
        "    dates = pd.date_range(start=\"2010-01-01\", periods=365 * num_years, freq=\"D\")\n",
        "    data = []\n",
        "\n",
        "    for city in cities:\n",
        "        for date in dates:\n",
        "            season = month_to_season[date.month]\n",
        "            mean_temp = seasonal_temperatures[city][season]\n",
        "            # Добавляем случайное отклонение\n",
        "            temperature = np.random.normal(loc=mean_temp, scale=5)\n",
        "            data.append({\"city\": city, \"timestamp\": date, \"temperature\": temperature})\n",
        "\n",
        "    df = pd.DataFrame(data)\n",
        "    df['season'] = df['timestamp'].dt.month.map(lambda x: month_to_season[x])\n",
        "    return df\n",
        "\n",
        "# Генерация данных\n",
        "data = generate_realistic_temperature_data(list(seasonal_temperatures.keys()))\n",
        "data.to_csv('temperature_data.csv', index=False)\n"
      ],
      "metadata": {
        "id": "SsrwTMhRj6dK"
      },
      "execution_count": 1,
      "outputs": []
    },
    {
      "cell_type": "markdown",
      "source": [
        "## 1. Анализ исторических данных"
      ],
      "metadata": {
        "id": "ZKDgIx8JwRgQ"
      }
    },
    {
      "cell_type": "code",
      "source": [
        "import asyncio\n",
        "import nest_asyncio\n",
        "nest_asyncio.apply()"
      ],
      "metadata": {
        "id": "drL8hWe2dr5r"
      },
      "execution_count": 3,
      "outputs": []
    },
    {
      "cell_type": "markdown",
      "source": [
        "#### Без асинхорнности"
      ],
      "metadata": {
        "id": "eKH7OVuHA49L"
      }
    },
    {
      "cell_type": "code",
      "source": [
        "%%time\n",
        "df = data.copy()\n",
        "df['moving_avg'] = df.groupby('city').temperature.rolling(window=30, min_periods=1, center=True).mean().droplevel(0)\n",
        "grouping = df.groupby(by=['season', 'city']).agg({'temperature': ['mean', 'std']}).temperature.reset_index()\n",
        "df = df.merge(grouping, 'left', left_on=['season', 'city'], right_on=['season', 'city'])\n",
        "df['anomaly'] = (df['temperature'] < df['mean'] - 2 * df['std']) | (df['temperature'] > df['mean'] + 2 * df['std'])"
      ],
      "metadata": {
        "id": "KsEcKO94wHEb",
        "outputId": "48c6535d-655d-4690-b488-94504e75040b",
        "colab": {
          "base_uri": "https://localhost:8080/"
        }
      },
      "execution_count": 4,
      "outputs": [
        {
          "output_type": "stream",
          "name": "stdout",
          "text": [
            "CPU times: user 51.2 ms, sys: 6.03 ms, total: 57.2 ms\n",
            "Wall time: 67 ms\n"
          ]
        }
      ]
    },
    {
      "cell_type": "markdown",
      "source": [
        "#### С асинхронностью"
      ],
      "metadata": {
        "id": "pCtAXdLpA9hU"
      }
    },
    {
      "cell_type": "code",
      "source": [
        "async def get_moving_avg(df, **kwargs):\n",
        "  return df.groupby('city').temperature.rolling(**kwargs).mean().droplevel(0).rolling(**kwargs).mean()\n",
        "\n",
        "async def get_agg_anomalies(df):\n",
        "  grouping = df.groupby(by=['season', 'city']).agg({'temperature': ['mean', 'std']}).temperature.reset_index()\n",
        "  df = df.merge(grouping, 'left', left_on=['season', 'city'], right_on=['season', 'city'])\n",
        "  df['anomaly'] = (df['temperature'] < df['mean'] - 2 * df['std']) | (df['temperature'] > df['mean'] + 2 * df['std'])\n",
        "  return df\n",
        "\n",
        "async def tasks(df):\n",
        "  new_df, moving_avg = await asyncio.gather(\n",
        "      get_agg_anomalies(df),\n",
        "      get_moving_avg(df, window=30, min_periods=1, center=True)\n",
        "  )\n",
        "  new_df['moving_avg'] = moving_avg\n",
        "  return new_df"
      ],
      "metadata": {
        "id": "qJI-IwOkckG5"
      },
      "execution_count": 5,
      "outputs": []
    },
    {
      "cell_type": "code",
      "source": [
        "%%time\n",
        "df = data.copy()\n",
        "df = asyncio.run(tasks(df))"
      ],
      "metadata": {
        "id": "cto3_ifqfkaS",
        "outputId": "70685d0a-a51b-4a31-9d62-c88a3f70a126",
        "colab": {
          "base_uri": "https://localhost:8080/"
        }
      },
      "execution_count": 6,
      "outputs": [
        {
          "output_type": "stream",
          "name": "stdout",
          "text": [
            "CPU times: user 50.9 ms, sys: 4.09 ms, total: 55 ms\n",
            "Wall time: 54.3 ms\n"
          ]
        }
      ]
    },
    {
      "cell_type": "markdown",
      "source": [
        "Получилось чуть быстрее"
      ],
      "metadata": {
        "id": "sxzYqeRPBCZ2"
      }
    },
    {
      "cell_type": "markdown",
      "source": [
        "## 2. Мониторинг текущей температуры"
      ],
      "metadata": {
        "id": "Iis6MXpwE_S6"
      }
    },
    {
      "cell_type": "code",
      "source": [
        "import requests\n",
        "import aiohttp\n",
        "import datetime"
      ],
      "metadata": {
        "id": "ecZY9_a4fspY"
      },
      "execution_count": 7,
      "outputs": []
    },
    {
      "cell_type": "markdown",
      "source": [
        "#### Без асинхронности"
      ],
      "metadata": {
        "id": "kFqKQ0aSBPEC"
      }
    },
    {
      "cell_type": "code",
      "source": [
        "def get_temp(city):\n",
        "  coords = requests.get(\n",
        "      f'http://api.openweathermap.org/geo/1.0/direct?q={city}&limit=1&appid={TOKEN}'\n",
        "  ).json()[0]\n",
        "\n",
        "  weather = requests.get(\n",
        "      f'https://api.openweathermap.org/data/2.5/weather?lat={coords[\"lat\"]}&lon={coords[\"lon\"]}&appid={TOKEN}',\n",
        "      params={'units': 'metric'}\n",
        "  ).json()\n",
        "\n",
        "  return weather['main']['temp']"
      ],
      "metadata": {
        "id": "2D7dfRx9NGBf"
      },
      "execution_count": 9,
      "outputs": []
    },
    {
      "cell_type": "code",
      "source": [
        "def is_cur_anomaly(city):\n",
        "  temp = get_temp(city)\n",
        "  city_date_info = df[(df.city==city)&(df.season==month_to_season.get(datetime.date.today().month))].iloc[0]\n",
        "  anomaly = not (city_date_info['mean'] - 2 * city_date_info['std'] <= temp <= city_date_info['mean'] + 2 * city_date_info['std'])\n",
        "  return {'temp': temp, 'anomaly': anomaly}"
      ],
      "metadata": {
        "id": "ZYxUKvTUOQtU"
      },
      "execution_count": 11,
      "outputs": []
    },
    {
      "cell_type": "code",
      "source": [
        "%%time\n",
        "res = [is_cur_anomaly(city) for city in df.city.unique()]"
      ],
      "metadata": {
        "colab": {
          "base_uri": "https://localhost:8080/"
        },
        "id": "RrqwNXGpUMkA",
        "outputId": "8825f83a-8e29-4255-8710-d8bbbb9a9068"
      },
      "execution_count": 12,
      "outputs": [
        {
          "output_type": "stream",
          "name": "stdout",
          "text": [
            "CPU times: user 351 ms, sys: 17.8 ms, total: 369 ms\n",
            "Wall time: 8.3 s\n"
          ]
        }
      ]
    },
    {
      "cell_type": "markdown",
      "source": [
        "#### С асинхронностью"
      ],
      "metadata": {
        "id": "x7lStbPqBT-I"
      }
    },
    {
      "cell_type": "code",
      "source": [
        "async def get_temp_async(city, session):\n",
        "  async with session.get(f'http://api.openweathermap.org/geo/1.0/direct?q={city}&limit=1&appid={TOKEN}') as resp:\n",
        "    coords = (await resp.json())[0]\n",
        "\n",
        "  async with session.get(\n",
        "      f'https://api.openweathermap.org/data/2.5/weather?lat={coords[\"lat\"]}&lon={coords[\"lon\"]}&appid={TOKEN}',\n",
        "      params={'units': 'metric'}\n",
        "  ) as resp:\n",
        "    return (await resp.json())['main']['temp']"
      ],
      "metadata": {
        "id": "50vCeCtcQsqS"
      },
      "execution_count": 14,
      "outputs": []
    },
    {
      "cell_type": "code",
      "source": [
        "async def is_cur_anomaly_async(city, session):\n",
        "  temp = await get_temp_async(city, session)\n",
        "  city_date_info = df[(df.city==city)&(df.season==month_to_season.get(datetime.date.today().month))].iloc[0]\n",
        "  anomaly = not (city_date_info['mean'] - 2 * city_date_info['std'] <= temp <= city_date_info['mean'] + 2 * city_date_info['std'])\n",
        "  return {'temp': temp, 'anomaly': anomaly}"
      ],
      "metadata": {
        "id": "fPYPNMpjRneC"
      },
      "execution_count": 18,
      "outputs": []
    },
    {
      "cell_type": "code",
      "source": [
        "async def city_tasks(cities):\n",
        "  async with aiohttp.ClientSession() as session:\n",
        "    tasks = [is_cur_anomaly_async(city, session) for city in cities]\n",
        "    return await asyncio.gather(*tasks)"
      ],
      "metadata": {
        "id": "HDdomef2TOSh"
      },
      "execution_count": 19,
      "outputs": []
    },
    {
      "cell_type": "code",
      "source": [
        "%%time\n",
        "res = asyncio.run(city_tasks(df.city.unique()))"
      ],
      "metadata": {
        "colab": {
          "base_uri": "https://localhost:8080/"
        },
        "id": "EB92J_2NS6rU",
        "outputId": "d2101d49-5766-477a-ccb2-450b970e6433"
      },
      "execution_count": 20,
      "outputs": [
        {
          "output_type": "stream",
          "name": "stdout",
          "text": [
            "CPU times: user 370 ms, sys: 11.1 ms, total: 381 ms\n",
            "Wall time: 711 ms\n"
          ]
        }
      ]
    },
    {
      "cell_type": "markdown",
      "source": [
        "При нескольких запросах получается значительно быстрее"
      ],
      "metadata": {
        "id": "FgGXD1zUBZQY"
      }
    },
    {
      "cell_type": "code",
      "source": [],
      "metadata": {
        "id": "zphROgD7BfuB"
      },
      "execution_count": null,
      "outputs": []
    }
  ]
}